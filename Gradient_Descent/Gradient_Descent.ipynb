{
 "cells": [
  {
   "cell_type": "markdown",
   "metadata": {},
   "source": [
    "# Gradient Descent"
   ]
  },
  {
   "cell_type": "markdown",
   "metadata": {},
   "source": [
    "The challenge is to implement gradient descent to find the line of best fit that predicts the relationship between two variables from a kaggle dataset using python only."
   ]
  },
  {
   "cell_type": "markdown",
   "metadata": {},
   "source": [
    "### Required Imports"
   ]
  },
  {
   "cell_type": "code",
   "execution_count": 91,
   "metadata": {
    "collapsed": true
   },
   "outputs": [],
   "source": [
    "import numpy as np\n",
    "import pandas as pd \n",
    "import matplotlib.pyplot as plt \n",
    "import time\n",
    "from IPython import display\n",
    "\n",
    "%matplotlib inline"
   ]
  },
  {
   "cell_type": "markdown",
   "metadata": {},
   "source": [
    "### DataSet"
   ]
  },
  {
   "cell_type": "markdown",
   "metadata": {},
   "source": [
    "Dataset [Weather in Szeged 2006-2016](https://www.kaggle.com/budincsevity/szeged-weather) has been chosen for the challenge.\n",
    "\n",
    "'weatherHistory.csv' has been chosen for the variables:\n",
    "* Temperature\n",
    "* Apparent Temperature"
   ]
  },
  {
   "cell_type": "code",
   "execution_count": 92,
   "metadata": {
    "collapsed": false
   },
   "outputs": [
    {
     "name": "stdout",
     "output_type": "stream",
     "text": [
      "   Temperature  Apparent Temperature (C)\n",
      "0     9.472222                  7.388889\n",
      "1     9.355556                  7.227778\n",
      "2     9.377778                  9.377778\n",
      "3     8.288889                  5.944444\n",
      "4     8.755556                  6.977778\n"
     ]
    },
    {
     "data": {
      "text/plain": [
       "(96453, 2)"
      ]
     },
     "execution_count": 92,
     "metadata": {},
     "output_type": "execute_result"
    }
   ],
   "source": [
    "dataset = pd.read_csv('weatherHistory.csv')\n",
    "data = dataset.loc[:, ['Temperature', 'Apparent Temperature (C)']]\n",
    "print (data.head())\n",
    "data.shape"
   ]
  },
  {
   "cell_type": "markdown",
   "metadata": {},
   "source": [
    "#### Plotting the data."
   ]
  },
  {
   "cell_type": "code",
   "execution_count": 93,
   "metadata": {
    "collapsed": false
   },
   "outputs": [
    {
     "data": {
      "image/png": "[encoded data removed]",
      "text/plain": [
       "<matplotlib.figure.Figure at 0x7ff2dca345f8>"
      ]
     },
     "metadata": {},
     "output_type": "display_data"
    }
   ],
   "source": [
    "_ = plt.figure(figsize=(10,5))\n",
    "_ = plt.scatter(x = data.Temperature, y = data['Apparent Temperature (C)'])\n",
    "_ = plt.xlabel('Temperature')\n",
    "_ = plt.ylabel('Apparent Temperature')\n",
    "_ = plt.title('Temperature vs Apparent Temperature')\n",
    "plt.show()"
   ]
  },
  {
   "cell_type": "markdown",
   "metadata": {
    "collapsed": true
   },
   "source": [
    "Since the relationship between both the variables is linear, lets find the best fit line with Gradient Descent."
   ]
  },
  {
   "cell_type": "markdown",
   "metadata": {},
   "source": [
    "### Linear Regression"
   ]
  },
  {
   "cell_type": "markdown",
   "metadata": {},
   "source": [
    "Since the data points are spaced out, so we are going to find the best fit line.\n",
    "<br /> Mathematical representation:-\n",
    "### <br /> y = mx + b\n",
    "<br /> where,\n",
    "<br /> (x,y) are the points on line,\n",
    "<br /> b:- y-intercept\n",
    "<br /> m:- slope"
   ]
  },
  {
   "cell_type": "markdown",
   "metadata": {},
   "source": [
    "### Sum of Square Error (SSE)"
   ]
  },
  {
   "cell_type": "markdown",
   "metadata": {},
   "source": [
    "Since we are finding the best fit line, there would be error which we would be finding using *SSE* method.\n",
    "<br /> \n",
    "<img src=\"http://cdn.spiderfinancial.com/sites/all/files/tex/44cb7fa41adc284eba143dd658d0e0fca1b19403.png\", width=200,height=200>\n",
    "<br /> where \n",
    "* $ \\{x_i\\} $ is the actual observations time series\n",
    "* $ \\{\\hat x_i\\} $ is the estimated or forecasted time series"
   ]
  },
  {
   "cell_type": "code",
   "execution_count": 94,
   "metadata": {
    "collapsed": false
   },
   "outputs": [],
   "source": [
    "def sumSquaredError(m, b, data):\n",
    "    \n",
    "    data = data.as_matrix()\n",
    "    error = 0\n",
    "    for i in range(data.shape[0]):\n",
    "        \n",
    "        temp = data[i, 1]  #column temperature\n",
    "        appTemp = data[i, 0]  #column apparent temperature\n",
    "        \n",
    "        error += (appTemp - (m * temp + b)) ** 2\n",
    "        \n",
    "    sse = error/data.shape[0]\n",
    "    return (sse)"
   ]
  },
  {
   "cell_type": "markdown",
   "metadata": {},
   "source": [
    "#### Example"
   ]
  },
  {
   "cell_type": "code",
   "execution_count": 95,
   "metadata": {
    "collapsed": false
   },
   "outputs": [
    {
     "name": "stdout",
     "output_type": "stream",
     "text": [
      "The error for fitting the line--> y = 3x + 5\n",
      "1169.54027079\n"
     ]
    }
   ],
   "source": [
    "m = 3\n",
    "b = 5\n",
    "\n",
    "sse = sumSquaredError(m, b, data)\n",
    "\n",
    "print ('The error for fitting the line--> y = %sx + %s'%(m, b))\n",
    "print (sse)"
   ]
  },
  {
   "cell_type": "markdown",
   "metadata": {},
   "source": [
    "As we can see that the error is too great, hence our best fit line is not an ideal one."
   ]
  },
  {
   "cell_type": "markdown",
   "metadata": {},
   "source": [
    "#### Plotting the best fit line."
   ]
  },
  {
   "cell_type": "code",
   "execution_count": 96,
   "metadata": {
    "collapsed": false
   },
   "outputs": [
    {
     "data": {
      "image/png": "[encoded data removed]",
      "text/plain": [
       "<matplotlib.figure.Figure at 0x7ff2dcc63f98>"
      ]
     },
     "metadata": {},
     "output_type": "display_data"
    }
   ],
   "source": [
    "fig = plt.figure(figsize=(10,5))\n",
    "\n",
    "ax = fig.add_subplot(111)\n",
    "\n",
    "ax.set_title('Temperature vs Apparent Temperature')\n",
    "\n",
    "ax.scatter(x = data.Temperature, y = data['Apparent Temperature (C)'], label = 'Data')\n",
    "\n",
    "plt.plot(data.Temperature, m*data.Temperature + b, color = 'red', label = 'Our Fitting Line')\n",
    "\n",
    "ax.set_xlabel('Temperature')\n",
    "\n",
    "ax.set_ylabel('Apparent Temperature')\n",
    "\n",
    "ax.legend(loc='best')\n",
    "\n",
    "plt.show()"
   ]
  },
  {
   "cell_type": "markdown",
   "metadata": {},
   "source": [
    "As we can see that the best fit line has a huge error, so further we will complete the task using Gradient Descent."
   ]
  },
  {
   "cell_type": "markdown",
   "metadata": {},
   "source": [
    "### Using Gradient Descent to minmize the Error."
   ]
  },
  {
   "cell_type": "markdown",
   "metadata": {},
   "source": [
    "<img src=\"https://qph.fs.quoracdn.net/main-qimg-25913bb0aa0193a5885640a64e8d490f\">\n",
    "<br /> Imagine you are the dot(Initial weight).\n",
    "<br /> Your task - To reach bottom (minimize error)\n",
    "<br /> You take steps to reach down (Update weights). \n",
    "<br /> The way to go: Compute the partial derivatives respect to 'm' and 'b'. Get the direction that decreases the gradient (towards zero error) and update 'm' and 'b' accordingly. The formula for partial derivates is as follows:-\n",
    "<img src=\"https://spin.atomicobject.com/wp-content/uploads/linear_regression_gradient1.png\", width=300, height300>"
   ]
  },
  {
   "cell_type": "code",
   "execution_count": 97,
   "metadata": {
    "collapsed": true
   },
   "outputs": [],
   "source": [
    "# Taking the value of learning rate as 0.0001 \n",
    "# as the learning rate values range over a few orders of magnitude from 0.0001 up to 1.\n",
    "\n",
    "def stepGradient(m, b, data, learningRate = 0.0001):\n",
    "    \n",
    "    data = data.as_matrix()\n",
    "    bGradient = 0\n",
    "    mGradient = 0\n",
    "    N = data.shape[0]\n",
    "    \n",
    "    for i in range(0, N):\n",
    "        x = data[i, 1]\n",
    "        y = data[i, 0]\n",
    "        \n",
    "        # Partial derivative w.r.t 'm'.\n",
    "        mGradient += -(2/N) * x * (y - (m * x + b))\n",
    "        # Partial derivative w.r.t 'b'.\n",
    "        bGradient += -(2/N) * (y - (m * x + b))\n",
    "    \n",
    "    mUpdated = m - (learningRate * mGradient)\n",
    "    bUpdated = b - (learningRate * bGradient)\n",
    "    \n",
    "    return (mUpdated, bUpdated)        "
   ]
  },
  {
   "cell_type": "code",
   "execution_count": 98,
   "metadata": {
    "collapsed": false
   },
   "outputs": [
    {
     "name": "stdout",
     "output_type": "stream",
     "text": [
      "Error at step 1 - Line--> y = 1.95x + 3.00 - Error--> 278.78\n",
      "Error at step 2 - Line--> y = 1.90x + 3.00 - Error--> 253.56\n",
      "\n",
      "Best  line--> y = 1.90x + 3.00 - Error--> 253.56\n"
     ]
    }
   ],
   "source": [
    "m = 2\n",
    "b = 3\n",
    "\n",
    "for i in range(2):\n",
    "    m,b = stepGradient(m,b,data)\n",
    "    sse = sumSquaredError(m,b,data)\n",
    "    print('Error at step %d - Line--> y = %.2fx + %.2f - Error--> %.2f' %(i+1,m,b,sse))\n",
    "\n",
    "print('\\nBest  line--> y = %.2fx + %.2f - Error--> %.2f' %(m,b,sse))"
   ]
  },
  {
   "cell_type": "markdown",
   "metadata": {},
   "source": [
    "#### Automating the repetition process for n steps."
   ]
  },
  {
   "cell_type": "code",
   "execution_count": 99,
   "metadata": {
    "collapsed": true
   },
   "outputs": [],
   "source": [
    "def gradientDescentSteps(mStarting, bStarting, data, steps):\n",
    "    \n",
    "    print ('Error at Starting line:- y = %.5fx + %.5f - Error--> %.5f\\n' %(mStarting, bStarting, sumSquaredError(mStarting, bStarting, data)))\n",
    "    m = mStarting\n",
    "    b = bStarting\n",
    "    \n",
    "    displayFreq = steps//10\n",
    "    \n",
    "    for i in range(steps):\n",
    "        m, b = stepGradient(m, b, data)\n",
    "        if (i % displayFreq == 0):\n",
    "            sse = sumSquaredError(m, b, data)\n",
    "            print ('At step %d - Line--> y = %.5fx + %.5f - Error--> %.5f\\n' %(i+1, m, b, sse))\n",
    "            \n",
    "    print ('\\nBest Line--> y = %.5fx + %.f - Error--> %.5f' %(m, b, sse))\n",
    "    \n",
    "    return (m, b)"
   ]
  },
  {
   "cell_type": "markdown",
   "metadata": {},
   "source": [
    "We will run the function 'gradientDescentSteps' for n number of steps to determine the best m & b values (which would be the last values).\n",
    "<br /> **Note: ** The number of steps is an experimental value, feel free to choose your own number of steps."
   ]
  },
  {
   "cell_type": "code",
   "execution_count": 100,
   "metadata": {
    "collapsed": false
   },
   "outputs": [
    {
     "name": "stdout",
     "output_type": "stream",
     "text": [
      "Error at Starting line:- y = 0.00000x + 0.00000 - Error--> 233.61991\n",
      "\n",
      "At step 1 - Line--> y = 0.04619x + 0.00239 - Error--> 212.72628\n",
      "\n",
      "At step 101 - Line--> y = 0.98333x + 0.06849 - Error--> 3.83260\n",
      "\n",
      "At step 201 - Line--> y = 0.99028x + 0.09080 - Error--> 3.76925\n",
      "\n",
      "At step 301 - Line--> y = 0.98933x + 0.11253 - Error--> 3.72195\n",
      "\n",
      "At step 401 - Line--> y = 0.98833x + 0.13404 - Error--> 3.67557\n",
      "\n",
      "At step 501 - Line--> y = 0.98733x + 0.15534 - Error--> 3.63009\n",
      "\n",
      "At step 601 - Line--> y = 0.98634x + 0.17644 - Error--> 3.58550\n",
      "\n",
      "At step 701 - Line--> y = 0.98536x + 0.19733 - Error--> 3.54177\n",
      "\n",
      "At step 801 - Line--> y = 0.98439x + 0.21801 - Error--> 3.49890\n",
      "\n",
      "At step 901 - Line--> y = 0.98343x + 0.23849 - Error--> 3.45686\n",
      "\n",
      "\n",
      "Best Line--> y = 0.98249x + 0 - Error--> 3.45686\n"
     ]
    }
   ],
   "source": [
    "mStarting = 0\n",
    "bStarting = 0\n",
    "steps = 1000\n",
    "\n",
    "mBest, bBest = gradientDescentSteps(mStarting, bStarting, data, steps)"
   ]
  },
  {
   "cell_type": "markdown",
   "metadata": {},
   "source": [
    "### Plotting the best fit line after Gradient Descent."
   ]
  },
  {
   "cell_type": "code",
   "execution_count": 101,
   "metadata": {
    "collapsed": false
   },
   "outputs": [
    {
     "data": {
      "image/png": "[encoded data removed]",
      "text/plain": [
       "<matplotlib.figure.Figure at 0x7ff2dca5c2b0>"
      ]
     },
     "metadata": {},
     "output_type": "display_data"
    }
   ],
   "source": [
    "m = mBest\n",
    "b = bBest\n",
    "\n",
    "dataPlot = data.as_matrix()\n",
    "\n",
    "fig = plt.figure(figsize = (10,5))\n",
    "\n",
    "ax = fig.add_subplot(111)\n",
    "\n",
    "ax.scatter(x = dataPlot[:, 1], y = dataPlot[:, 0],label = 'Data')\n",
    "\n",
    "plt.plot(x, m*x + b,color='red',label='BEST Fitting Line')\n",
    "ax.set_xlabel('Temperature')\n",
    "ax.set_ylabel('Apparent Temperature')\n",
    "ax.set_title('Temperature vs Apparent Temperature')\n",
    "ax.legend(loc='best')\n",
    "\n",
    "plt.show()"
   ]
  },
  {
   "cell_type": "markdown",
   "metadata": {},
   "source": [
    "As we can see the above plot is a lot better than the previous one. Hence concluding the challenge of performing **Linear Regression** using **Gradient Descent**."
   ]
  },
  {
   "cell_type": "markdown",
   "metadata": {},
   "source": [
    "### References\n",
    "[Siraj Raval Math of Intelligence](https://github.com/llSourcell/Intro_to_the_Math_of_intelligence)\n",
    "<br /> [Introduction to Gradient Descent and Linear Regression - Matt Nedrich](https://spin.atomicobject.com/2014/06/24/gradient-descent-linear-regression/)"
   ]
  }
 ],
 "metadata": {
  "anaconda-cloud": {},
  "kernelspec": {
   "display_name": "Python [default]",
   "language": "python",
   "name": "python3"
  },
  "language_info": {
   "codemirror_mode": {
    "name": "ipython",
    "version": 3
   },
   "file_extension": ".py",
   "mimetype": "text/x-python",
   "name": "python",
   "nbconvert_exporter": "python",
   "pygments_lexer": "ipython3",
   "version": "3.5.2"
  }
 },
 "nbformat": 4,
 "nbformat_minor": 1
}
